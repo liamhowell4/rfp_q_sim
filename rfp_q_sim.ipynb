{
 "cells": [
  {
   "cell_type": "markdown",
   "id": "4c84b1de",
   "metadata": {},
   "source": [
    "# Similar Qs\n",
    "\n",
    "Testing out Python PDF Capabilities to tokenize RFPs"
   ]
  },
  {
   "cell_type": "code",
   "execution_count": 2,
   "id": "b81b33d6",
   "metadata": {},
   "outputs": [
    {
     "name": "stderr",
     "output_type": "stream",
     "text": [
      "c:\\Users\\E707254\\AppData\\Local\\miniconda3\\Lib\\site-packages\\pinecone\\data\\index.py:1: TqdmWarning: IProgress not found. Please update jupyter and ipywidgets. See https://ipywidgets.readthedocs.io/en/stable/user_install.html\n",
      "  from tqdm.autonotebook import tqdm\n"
     ]
    }
   ],
   "source": [
    "import os\n",
    "from pinecone import Pinecone\n",
    "import pandas as pd\n",
    "import numpy as np\n",
    "import ast\n",
    "import tiktoken\n",
    "from openai import OpenAI\n",
    "from tqdm.autonotebook import tqdm\n",
    "\n",
    "import concurrent.futures\n",
    "from concurrent.futures import ThreadPoolExecutor\n",
    "\n",
    "client = OpenAI()\n",
    "\n",
    "# embedding model parameters\n",
    "embedding_model = \"text-embedding-3-large\"\n",
    "embedding_encoding = \"cl100k_base\"  # this the encoding for text-embedding-ada-002\n",
    "max_tokens = 8000  # the maximum for text-embedding-ada-002 is 8191\n",
    "\n",
    "encoding = tiktoken.get_encoding(embedding_encoding)\n",
    "\n",
    "#turns off SettingWithoutCopy warning\n",
    "pd.options.mode.chained_assignment = None"
   ]
  },
  {
   "cell_type": "code",
   "execution_count": 5,
   "id": "5a298771",
   "metadata": {},
   "outputs": [
    {
     "data": {
      "text/html": [
       "<div>\n",
       "<style scoped>\n",
       "    .dataframe tbody tr th:only-of-type {\n",
       "        vertical-align: middle;\n",
       "    }\n",
       "\n",
       "    .dataframe tbody tr th {\n",
       "        vertical-align: top;\n",
       "    }\n",
       "\n",
       "    .dataframe thead th {\n",
       "        text-align: right;\n",
       "    }\n",
       "</style>\n",
       "<table border=\"1\" class=\"dataframe\">\n",
       "  <thead>\n",
       "    <tr style=\"text-align: right;\">\n",
       "      <th></th>\n",
       "      <th>0</th>\n",
       "      <th>1</th>\n",
       "    </tr>\n",
       "  </thead>\n",
       "  <tbody>\n",
       "    <tr>\n",
       "      <th>0</th>\n",
       "      <td>1</td>\n",
       "      <td>2.0</td>\n",
       "    </tr>\n",
       "    <tr>\n",
       "      <th>1</th>\n",
       "      <td>3</td>\n",
       "      <td></td>\n",
       "    </tr>\n",
       "  </tbody>\n",
       "</table>\n",
       "</div>"
      ],
      "text/plain": [
       "   0    1\n",
       "0  1  2.0\n",
       "1  3     "
      ]
     },
     "execution_count": 5,
     "metadata": {},
     "output_type": "execute_result"
    }
   ],
   "source": [
    "pd.DataFrame([[1,2], [3, None]]).fillna(\"\")"
   ]
  },
  {
   "cell_type": "code",
   "execution_count": 10,
   "id": "dbf544ed",
   "metadata": {},
   "outputs": [
    {
     "data": {
      "text/html": [
       "<div>\n",
       "<style scoped>\n",
       "    .dataframe tbody tr th:only-of-type {\n",
       "        vertical-align: middle;\n",
       "    }\n",
       "\n",
       "    .dataframe tbody tr th {\n",
       "        vertical-align: top;\n",
       "    }\n",
       "\n",
       "    .dataframe thead th {\n",
       "        text-align: right;\n",
       "    }\n",
       "</style>\n",
       "<table border=\"1\" class=\"dataframe\">\n",
       "  <thead>\n",
       "    <tr style=\"text-align: right;\">\n",
       "      <th></th>\n",
       "      <th>question</th>\n",
       "      <th>answer</th>\n",
       "      <th>rfp</th>\n",
       "      <th>project</th>\n",
       "      <th>tech</th>\n",
       "      <th>general</th>\n",
       "      <th>state</th>\n",
       "      <th>iso/region</th>\n",
       "      <th>month</th>\n",
       "      <th>year</th>\n",
       "    </tr>\n",
       "  </thead>\n",
       "  <tbody>\n",
       "    <tr>\n",
       "      <th>0</th>\n",
       "      <td>What is the project name?</td>\n",
       "      <td>Las Camas Solar Park</td>\n",
       "      <td>cpa_rfo_2024</td>\n",
       "      <td>Las Camas</td>\n",
       "      <td>Solar</td>\n",
       "      <td>True</td>\n",
       "      <td>CA</td>\n",
       "      <td>CAISO</td>\n",
       "      <td>7</td>\n",
       "      <td>2024</td>\n",
       "    </tr>\n",
       "  </tbody>\n",
       "</table>\n",
       "</div>"
      ],
      "text/plain": [
       "                    question                answer           rfp    project  \\\n",
       "0  What is the project name?  Las Camas Solar Park  cpa_rfo_2024  Las Camas   \n",
       "\n",
       "    tech  general state iso/region  month  year  \n",
       "0  Solar     True    CA      CAISO      7  2024  "
      ]
     },
     "execution_count": 10,
     "metadata": {},
     "output_type": "execute_result"
    }
   ],
   "source": [
    "pd.read_csv('new_q_a_TEMPLATE.csv')"
   ]
  },
  {
   "cell_type": "code",
   "execution_count": 2,
   "id": "b0393d8d",
   "metadata": {},
   "outputs": [],
   "source": [
    "pc = Pinecone(api_key=os.environ['PINECONE_API_KEY'])\n",
    "index = pc.Index('rfp-response-qs')"
   ]
  },
  {
   "cell_type": "code",
   "execution_count": null,
   "id": "c0c803ed",
   "metadata": {},
   "outputs": [],
   "source": []
  },
  {
   "cell_type": "code",
   "execution_count": 3,
   "id": "5ca5c6fd",
   "metadata": {},
   "outputs": [
    {
     "data": {
      "text/html": [
       "<div>\n",
       "<style scoped>\n",
       "    .dataframe tbody tr th:only-of-type {\n",
       "        vertical-align: middle;\n",
       "    }\n",
       "\n",
       "    .dataframe tbody tr th {\n",
       "        vertical-align: top;\n",
       "    }\n",
       "\n",
       "    .dataframe thead th {\n",
       "        text-align: right;\n",
       "    }\n",
       "</style>\n",
       "<table border=\"1\" class=\"dataframe\">\n",
       "  <thead>\n",
       "    <tr style=\"text-align: right;\">\n",
       "      <th></th>\n",
       "      <th>Filter</th>\n",
       "      <th>Selection</th>\n",
       "    </tr>\n",
       "  </thead>\n",
       "  <tbody>\n",
       "    <tr>\n",
       "      <th>0</th>\n",
       "      <td>Project Name</td>\n",
       "      <td></td>\n",
       "    </tr>\n",
       "    <tr>\n",
       "      <th>1</th>\n",
       "      <td>ISO/Region</td>\n",
       "      <td></td>\n",
       "    </tr>\n",
       "    <tr>\n",
       "      <th>2</th>\n",
       "      <td>State</td>\n",
       "      <td></td>\n",
       "    </tr>\n",
       "    <tr>\n",
       "      <th>3</th>\n",
       "      <td>Technology</td>\n",
       "      <td></td>\n",
       "    </tr>\n",
       "    <tr>\n",
       "      <th>4</th>\n",
       "      <td>Include General (not project/RFP specific) que...</td>\n",
       "      <td></td>\n",
       "    </tr>\n",
       "    <tr>\n",
       "      <th>5</th>\n",
       "      <td>Specific RFP</td>\n",
       "      <td></td>\n",
       "    </tr>\n",
       "  </tbody>\n",
       "</table>\n",
       "</div>"
      ],
      "text/plain": [
       "                                              Filter Selection\n",
       "0                                       Project Name          \n",
       "1                                         ISO/Region          \n",
       "2                                              State          \n",
       "3                                         Technology          \n",
       "4  Include General (not project/RFP specific) que...          \n",
       "5                                       Specific RFP          "
      ]
     },
     "execution_count": 3,
     "metadata": {},
     "output_type": "execute_result"
    }
   ],
   "source": [
    "import rfp_q_sim as rfp\n",
    "\n",
    "pd.DataFrame([[key, ''] for key in rfp.filter_cat_dict.keys()], columns=['Filter', 'Selection'])"
   ]
  },
  {
   "cell_type": "code",
   "execution_count": 4,
   "id": "73bad78c",
   "metadata": {},
   "outputs": [],
   "source": [
    "def get_embedding(text, engine=embedding_model):\n",
    "   text = text.replace(\"\\n\", \" \")\n",
    "   return client.embeddings.create(input = [text], model=engine).data[0].embedding"
   ]
  },
  {
   "cell_type": "code",
   "execution_count": 40,
   "id": "df1a613c",
   "metadata": {},
   "outputs": [
    {
     "data": {
      "text/html": [
       "<div>\n",
       "<style scoped>\n",
       "    .dataframe tbody tr th:only-of-type {\n",
       "        vertical-align: middle;\n",
       "    }\n",
       "\n",
       "    .dataframe tbody tr th {\n",
       "        vertical-align: top;\n",
       "    }\n",
       "\n",
       "    .dataframe thead th {\n",
       "        text-align: right;\n",
       "    }\n",
       "</style>\n",
       "<table border=\"1\" class=\"dataframe\">\n",
       "  <thead>\n",
       "    <tr style=\"text-align: right;\">\n",
       "      <th></th>\n",
       "      <th>Filter</th>\n",
       "      <th>Selection</th>\n",
       "    </tr>\n",
       "  </thead>\n",
       "  <tbody>\n",
       "    <tr>\n",
       "      <th>1</th>\n",
       "      <td>ISO/Region</td>\n",
       "      <td>4</td>\n",
       "    </tr>\n",
       "    <tr>\n",
       "      <th>2</th>\n",
       "      <td>State</td>\n",
       "      <td>4</td>\n",
       "    </tr>\n",
       "    <tr>\n",
       "      <th>3</th>\n",
       "      <td>Technology</td>\n",
       "      <td>4</td>\n",
       "    </tr>\n",
       "    <tr>\n",
       "      <th>4</th>\n",
       "      <td>Include General (not project/RFP specific) que...</td>\n",
       "      <td>4</td>\n",
       "    </tr>\n",
       "    <tr>\n",
       "      <th>5</th>\n",
       "      <td>Specific RFP</td>\n",
       "      <td>4</td>\n",
       "    </tr>\n",
       "  </tbody>\n",
       "</table>\n",
       "</div>"
      ],
      "text/plain": [
       "                                              Filter Selection\n",
       "1                                         ISO/Region         4\n",
       "2                                              State         4\n",
       "3                                         Technology         4\n",
       "4  Include General (not project/RFP specific) que...         4\n",
       "5                                       Specific RFP         4"
      ]
     },
     "execution_count": 40,
     "metadata": {},
     "output_type": "execute_result"
    }
   ],
   "source": [
    "c = pd.DataFrame([[key, '4'] for key in rfp.filter_cat_dict.keys()], columns=['Filter', 'Selection'])\n",
    "c.iloc[0, 1] = ''\n",
    "c[c['Selection'] != '']"
   ]
  },
  {
   "cell_type": "code",
   "execution_count": 30,
   "id": "86d957b7",
   "metadata": {},
   "outputs": [],
   "source": [
    "rfp_months = {'aps_rfp_2023': '8',\n",
    " 'cea_offer_2024': '7',\n",
    " 'cpa_rfo_2024': '7',\n",
    " 'cpa_rfp_2023': '7',\n",
    " 'csu_rfp_2023': '1',\n",
    " 'evergy_rfp_2023': '3',\n",
    " 'gcpud_rfp_2024': '2',\n",
    " 'pso_rfp_2023': '1',\n",
    " 'sce_rfp_2023': '12',\n",
    " 'srp_rfp_2023': '4',\n",
    " 'svce_rfp_2023': '12',\n",
    " 'tid_rfp_2024': '6'}"
   ]
  },
  {
   "cell_type": "code",
   "execution_count": 31,
   "id": "c35294f0",
   "metadata": {},
   "outputs": [],
   "source": [
    "all_qs = index.query(top_k=10000, vector=get_embedding(\"hello world\"), namespace=\"rfp-response\", include_metadata=True)['matches']\n",
    "\n",
    "for q in all_qs:\n",
    "    index.update(id = q['id'], namespace = 'rfp-response', set_metadata = {'month': rfp_months[q['metadata']['rfp']]})"
   ]
  },
  {
   "cell_type": "code",
   "execution_count": 23,
   "id": "869f8f3b",
   "metadata": {},
   "outputs": [],
   "source": [
    "pinecone_metadata = [item.metadata for item in index.query(top_k=10000, vector=get_embedding(\"hello world\"), namespace=\"rfp-response\", include_metadata=True)['matches']]\n",
    "[item.pop('answer') for item in pinecone_metadata]\n",
    "[item.pop('question') for item in pinecone_metadata]\n",
    "pinecone_metadata_unique = {key: set([item[key] for item in pinecone_metadata]) for key in pinecone_metadata[0].keys()}"
   ]
  },
  {
   "cell_type": "code",
   "execution_count": 29,
   "id": "13d3d27b",
   "metadata": {},
   "outputs": [
    {
     "data": {
      "text/plain": [
       "8"
      ]
     },
     "execution_count": 29,
     "metadata": {},
     "output_type": "execute_result"
    }
   ],
   "source": [
    "int('8')"
   ]
  },
  {
   "cell_type": "code",
   "execution_count": null,
   "id": "e8242f0e",
   "metadata": {},
   "outputs": [],
   "source": []
  },
  {
   "cell_type": "code",
   "execution_count": 28,
   "id": "9d14846a",
   "metadata": {},
   "outputs": [
    {
     "data": {
      "text/plain": [
       "{'aps_rfp_2023',\n",
       " 'cea_offer_2024',\n",
       " 'cpa_rfo_2024',\n",
       " 'cpa_rfp_2023',\n",
       " 'csu_rfp_2023',\n",
       " 'evergy_rfp_2023',\n",
       " 'gcpud_rfp_2024',\n",
       " 'pso_rfp_2023',\n",
       " 'sce_rfp_2023',\n",
       " 'srp_rfp_2023',\n",
       " 'svce_rfp_2023',\n",
       " 'tid_rfp_2024'}"
      ]
     },
     "execution_count": 28,
     "metadata": {},
     "output_type": "execute_result"
    }
   ],
   "source": [
    "pinecone_metadata_unique['rfp']"
   ]
  },
  {
   "cell_type": "code",
   "execution_count": 24,
   "id": "79aeec79",
   "metadata": {},
   "outputs": [
    {
     "data": {
      "text/plain": [
       "{'general': {False, True},\n",
       " 'iso/region': {'CAISO', 'SPP', 'WECC'},\n",
       " 'project': {'Avondale',\n",
       "  'Casa Grande',\n",
       "  'Crossing Trails II',\n",
       "  'Flatlands',\n",
       "  'Las Camas',\n",
       "  'Plum Nellie',\n",
       "  'Sonrisa',\n",
       "  'Western Star'},\n",
       " 'rfp': {'aps_rfp_2023',\n",
       "  'cea_offer_2024',\n",
       "  'cpa_rfo_2024',\n",
       "  'cpa_rfp_2023',\n",
       "  'csu_rfp_2023',\n",
       "  'evergy_rfp_2023',\n",
       "  'gcpud_rfp_2024',\n",
       "  'pso_rfp_2023',\n",
       "  'sce_rfp_2023',\n",
       "  'srp_rfp_2023',\n",
       "  'svce_rfp_2023',\n",
       "  'tid_rfp_2024'},\n",
       " 'state': {'AZ', 'CA', 'CO', 'KS', 'WA'},\n",
       " 'tech': {'BESS', 'Solar', 'Wind'},\n",
       " 'year': {'2023', '2024'}}"
      ]
     },
     "execution_count": 24,
     "metadata": {},
     "output_type": "execute_result"
    }
   ],
   "source": [
    "pinecone_metadata_unique"
   ]
  },
  {
   "cell_type": "code",
   "execution_count": 8,
   "id": "27923ec6",
   "metadata": {},
   "outputs": [
    {
     "data": {
      "text/html": [
       "<div>\n",
       "<style scoped>\n",
       "    .dataframe tbody tr th:only-of-type {\n",
       "        vertical-align: middle;\n",
       "    }\n",
       "\n",
       "    .dataframe tbody tr th {\n",
       "        vertical-align: top;\n",
       "    }\n",
       "\n",
       "    .dataframe thead th {\n",
       "        text-align: right;\n",
       "    }\n",
       "</style>\n",
       "<table border=\"1\" class=\"dataframe\">\n",
       "  <thead>\n",
       "    <tr style=\"text-align: right;\">\n",
       "      <th></th>\n",
       "      <th>Filter</th>\n",
       "      <th>Selection</th>\n",
       "    </tr>\n",
       "  </thead>\n",
       "  <tbody>\n",
       "    <tr>\n",
       "      <th>0</th>\n",
       "      <td>Project Name</td>\n",
       "      <td>[Plum Nellie, Casa Grande, Crossing Trails II,...</td>\n",
       "    </tr>\n",
       "    <tr>\n",
       "      <th>1</th>\n",
       "      <td>ISO/Region</td>\n",
       "      <td>[SPP, CAISO, WECC]</td>\n",
       "    </tr>\n",
       "    <tr>\n",
       "      <th>2</th>\n",
       "      <td>State</td>\n",
       "      <td>[WA, CA, KS, CO, AZ]</td>\n",
       "    </tr>\n",
       "    <tr>\n",
       "      <th>3</th>\n",
       "      <td>Technology</td>\n",
       "      <td>[BESS, Wind, Solar]</td>\n",
       "    </tr>\n",
       "    <tr>\n",
       "      <th>4</th>\n",
       "      <td>Include General (not project/RFP specific) que...</td>\n",
       "      <td>[False, True]</td>\n",
       "    </tr>\n",
       "    <tr>\n",
       "      <th>5</th>\n",
       "      <td>Specific RFP</td>\n",
       "      <td>[aps_rfp_2023, svce_rfp_2023, cpa_rfp_2023, cp...</td>\n",
       "    </tr>\n",
       "  </tbody>\n",
       "</table>\n",
       "</div>"
      ],
      "text/plain": [
       "                                              Filter  \\\n",
       "0                                       Project Name   \n",
       "1                                         ISO/Region   \n",
       "2                                              State   \n",
       "3                                         Technology   \n",
       "4  Include General (not project/RFP specific) que...   \n",
       "5                                       Specific RFP   \n",
       "\n",
       "                                           Selection  \n",
       "0  [Plum Nellie, Casa Grande, Crossing Trails II,...  \n",
       "1                                 [SPP, CAISO, WECC]  \n",
       "2                               [WA, CA, KS, CO, AZ]  \n",
       "3                                [BESS, Wind, Solar]  \n",
       "4                                      [False, True]  \n",
       "5  [aps_rfp_2023, svce_rfp_2023, cpa_rfp_2023, cp...  "
      ]
     },
     "execution_count": 8,
     "metadata": {},
     "output_type": "execute_result"
    }
   ],
   "source": [
    "pd.DataFrame([[key, list(pinecone_metadata_unique[rfp.filter_cat_dict[key]])] for key in rfp.filter_cat_dict.keys()], columns=['Filter', 'Selection'])"
   ]
  },
  {
   "cell_type": "code",
   "execution_count": 13,
   "id": "3f9add0a",
   "metadata": {},
   "outputs": [
    {
     "data": {
      "text/plain": [
       "['question',\n",
       " 'answer',\n",
       " 'rfp',\n",
       " 'project',\n",
       " 'tech',\n",
       " 'general',\n",
       " 'state',\n",
       " 'iso/region']"
      ]
     },
     "execution_count": 13,
     "metadata": {},
     "output_type": "execute_result"
    }
   ],
   "source": [
    "list(new_csv.columns)"
   ]
  },
  {
   "cell_type": "code",
   "execution_count": 18,
   "id": "d7e30e01",
   "metadata": {},
   "outputs": [],
   "source": [
    "new_csv = pd.read_csv('new_q_a_bank.csv').dropna()\n",
    "\n",
    "def check_new_csv(csv):\n",
    "    assert list(csv.columns) == [\n",
    "        'question', 'answer', 'rfp', 'project', 'tech', 'general', 'state', 'iso/region', 'month', 'year'\n",
    "    ], 'Columns must be question, answer, rfp, project, tech, general, state, iso/region, in that order'\n",
    "\n",
    "check_new_csv(new_csv)"
   ]
  },
  {
   "cell_type": "code",
   "execution_count": null,
   "id": "f6e78a15",
   "metadata": {},
   "outputs": [],
   "source": [
    "pinecone_metadata_unique"
   ]
  },
  {
   "cell_type": "code",
   "execution_count": null,
   "id": "9f43ae92",
   "metadata": {},
   "outputs": [],
   "source": [
    "pinecone_metadata"
   ]
  },
  {
   "cell_type": "code",
   "execution_count": null,
   "id": "95cc3fb6",
   "metadata": {},
   "outputs": [],
   "source": [
    "\n",
    "#takes in a dataframe with at least an 'id' and 'text' column\n",
    "def parallel_embedding_for_df(chunks_df, embed_function):\n",
    "\n",
    "    section_data = list(zip(chunks_df['id'], chunks_df['question']))\n",
    "\n",
    "    section_data_with_embeddings = []\n",
    "\n",
    "    with ThreadPoolExecutor() as executor:\n",
    "        \n",
    "        future_to_section = {executor.submit(embed_function, section[1]): section for section in section_data}\n",
    "\n",
    "        for future in concurrent.futures.as_completed(future_to_section):\n",
    "            section = future_to_section[future]\n",
    "\n",
    "            try:\n",
    "                embedding = future.result()\n",
    "                section_data_with_embeddings.append([section[0], embedding])\n",
    "            except Exception as exc:\n",
    "                print(f\"{section[0]} generated an exception: {exc}\")\n",
    "            \n",
    "    return pd.DataFrame(section_data_with_embeddings, columns=['id', 'embedding'])\n",
    "\n",
    "def prepare_df_for_pinecone(df, id_column='id', embedding_column='embedding'):\n",
    "        return [{'id': row[id_column], 'values': row[embedding_column], 'metadata': {f'{column}': row[column] for column in df.columns if column not in [\n",
    "                id_column, embedding_column]}} for _, row in df.iterrows()]\n",
    "\n",
    "def cut_up_list(input_list, chunk_size):\n",
    "        \"\"\"Yield successive chunks of chunk_size from input_list.\"\"\"\n",
    "        for i in range(0, len(input_list), chunk_size):\n",
    "            yield input_list[i:i + chunk_size]\n",
    "\n",
    "# def cosine_similarity(a, b):\n",
    "#     return np.dot(a, b) / (np.linalg.norm(a) * np.linalg.norm(b))"
   ]
  },
  {
   "cell_type": "code",
   "execution_count": null,
   "id": "ef1cfac2",
   "metadata": {},
   "outputs": [],
   "source": [
    "# function that takes in a new csv of questions, answers, and metadata and uploads it\n",
    "def upload_new_qs(new_q_a_csv):\n",
    "\n",
    "    new_q_a_csv = new_q_a_csv.dropna(subset=['question', 'answer']).reset_index(drop=True)\n",
    "\n",
    "    new_q_a_csv['counter'] = new_q_a_csv.groupby('rfp').cumcount()\n",
    "\n",
    "    # Add the 'id' column by combining 'rfp' and 'counter'\n",
    "    new_q_a_csv['id'] = new_q_a_csv['rfp'] + '_' + new_q_a_csv['counter'].astype(str)\n",
    "\n",
    "    # Drop the intermediate 'counter' column if not needed\n",
    "    new_q_a_csv = new_q_a_csv.drop('counter', axis=1)\n",
    "\n",
    "    ids_embeddings = parallel_embedding_for_df(new_q_a_csv, get_embedding)\n",
    "\n",
    "    new_q_a_csv = new_q_a_csv.merge(ids_embeddings, on='id', how='inner')\n",
    "\n",
    "    q_a_bank_pc = prepare_df_for_pinecone(new_q_a_csv)\n",
    "\n",
    "    for sub_list in tqdm(list(cut_up_list(q_a_bank_pc, 30))):\n",
    "        index.upsert(vectors=sub_list, namespace='rfp-response', async_req=True)"
   ]
  },
  {
   "cell_type": "code",
   "execution_count": null,
   "id": "ded4e39d",
   "metadata": {},
   "outputs": [],
   "source": [
    "new_q_bank = pd.read_csv(\"new_q_a_bank.csv\")\n",
    "\n",
    "upload_new_qs(new_q_bank)"
   ]
  },
  {
   "cell_type": "code",
   "execution_count": null,
   "id": "e35b1711",
   "metadata": {},
   "outputs": [],
   "source": [
    "def delete_rfp_from_pinecone_namespace(rfp_name, index=index, namespace='rfp-response'):\n",
    "    index.delete(list(index.list(prefix=rfp_name, namespace=namespace))[0], namespace=namespace)"
   ]
  },
  {
   "cell_type": "code",
   "execution_count": null,
   "id": "bbe5ee4f",
   "metadata": {},
   "outputs": [],
   "source": [
    "def get_suggestions(question, index=index, k=5, filter_dict = {}, print_filter_dict=False):\n",
    "    question_embedding = get_embedding(question)\n",
    "\n",
    "    confirmed_filter_dict = dict()\n",
    "\n",
    "    confirmed_filter_dict = {key: value if key in ['rfp_name', 'general', 'project', 'isoregion', 'tech'] else print(f'{key} is not filterable')for key, value in filter_dict.items()}\n",
    "\n",
    "    if print_filter_dict:\n",
    "        print(confirmed_filter_dict)\n",
    "        \n",
    "    results = index.query(vector=question_embedding, top_k=k, namespace='rfp-response', include_metadata=True, filter=confirmed_filter_dict)\n",
    "\n",
    "    q_a = [[match['metadata']['question'], match['metadata']['answer'], match['metadata']['rfp'], match['metadata']['project']] for match in results['matches']]\n",
    "\n",
    "    if not len(q_a):\n",
    "        return pd.DataFrame(columns=['question', 'answer', 'rfp_name', 'project'])\n",
    "\n",
    "    if q_a[0][0] == question:\n",
    "\n",
    "        q_a = [q_a[0]] + [['', ' ', ' ']] * 4\n",
    "\n",
    "    return pd.DataFrame(q_a, columns=['question', 'answer', 'rfp_name', 'project'])"
   ]
  },
  {
   "cell_type": "code",
   "execution_count": null,
   "id": "c316c139",
   "metadata": {},
   "outputs": [],
   "source": [
    "def run_similarities_on_q_df(q_df, filter_dict={}):\n",
    "\n",
    "    # Create a list to store the suggestions\n",
    "    suggestions_list = []\n",
    "\n",
    "    # iterate through the questions in the dataframe\n",
    "    for question in q_df['question']:\n",
    "\n",
    "        # Create a dictionary to store the question and the suggestions\n",
    "        suggestion_row = {'question_actual': question}\n",
    "\n",
    "        # Get the suggestions for the question using the get_suggestions function\n",
    "        suggestions = [{f'{inner_key}_{outer_key}': inner_value for inner_key, inner_value in outer_value.items()} for outer_key, outer_value in \n",
    "                    get_suggestions(question, filter_dict = filter_dict, print_filter_dict=False).to_dict(orient='index').items()]\n",
    "\n",
    "        # Update the suggestion_row dictionary with the suggestions\n",
    "        for sugggestion in suggestions:\n",
    "            suggestion_row.update(sugggestion)\n",
    "\n",
    "        # Append the suggestion_row to the suggestions_list\n",
    "        suggestions_list.append(suggestion_row)\n",
    "        \n",
    "    # Return the suggestions_list as a dataframe\n",
    "    return pd.DataFrame(suggestions_list)"
   ]
  },
  {
   "cell_type": "code",
   "execution_count": null,
   "id": "a3e90bfa",
   "metadata": {},
   "outputs": [],
   "source": [
    "get_suggestions(\"Pnoda\", filter_dict={'project': 'Sonrisa'})"
   ]
  },
  {
   "cell_type": "code",
   "execution_count": null,
   "id": "2b9b0bb7",
   "metadata": {},
   "outputs": [],
   "source": [
    "import re\n",
    "\n",
    "def to_snake_case(text):\n",
    "    # Replace all non-alphanumeric characters with a space\n",
    "    text = re.sub(r'[^a-zA-Z0-9]', ' ', text)\n",
    "    # Replace uppercase letters with lowercase and precede them with an underscore if they are not at the start\n",
    "    text = re.sub(r'(?<!^)(?=[A-Z])', '_', text).lower()\n",
    "    # Replace spaces and underscores with a single underscore\n",
    "    text = re.sub(r'[\\s_]+', '_', text)\n",
    "    return text"
   ]
  },
  {
   "cell_type": "code",
   "execution_count": null,
   "id": "d84f5493",
   "metadata": {},
   "outputs": [],
   "source": [
    "import pandas as pd\n",
    "\n",
    "# Load the .xlsm file\n",
    "file_path = 'Attachment_C_Offer_Form_03312023_ia5ufs.xlsm'  # Replace with your file path\n",
    "\n",
    "def save_sheets_as_csv(file_path):\n",
    "    # Load the Excel file\n",
    "\n",
    "    excel_file = pd.ExcelFile(file_path, engine='openpyxl')\n",
    "\n",
    "    # Loop through each sheet in the file\n",
    "    for sheet_name in excel_file.sheet_names:\n",
    "        # Load the sheet into a DataFrame\n",
    "        df = pd.read_excel(excel_file, sheet_name=sheet_name)\n",
    "        \n",
    "        # Create a CSV file name based on the sheet name\n",
    "        csv_file_name = f\"{to_snake_case(sheet_name)}.csv\"\n",
    "        \n",
    "        # Save the DataFrame as a CSV file with UTF-8 encoding\n",
    "        df.to_csv(f'rfp_sheets/{csv_file_name}', encoding='utf-8', index=False)\n",
    "\n",
    "    print(\"All sheets have been saved as CSV files.\")"
   ]
  },
  {
   "cell_type": "code",
   "execution_count": null,
   "id": "5a8706ee",
   "metadata": {},
   "outputs": [],
   "source": [
    "q_a_suggestions_df.to_csv('q_a_suggestions.csv', index=False)"
   ]
  },
  {
   "cell_type": "code",
   "execution_count": null,
   "id": "8dedfa53",
   "metadata": {},
   "outputs": [],
   "source": [
    "ava_qs = pd.read_csv('rfp_sheets/ava_rfp_qs.csv')"
   ]
  },
  {
   "cell_type": "code",
   "execution_count": null,
   "id": "1596ac0c",
   "metadata": {},
   "outputs": [],
   "source": [
    "ava_qs_suggestions = run_similarities_on_q_df(ava_qs, filter_dict={'project': 'Las Camas'})"
   ]
  },
  {
   "cell_type": "code",
   "execution_count": null,
   "id": "54332ac4",
   "metadata": {},
   "outputs": [],
   "source": [
    "ava_qs_suggestions.to_csv('rfp_sheets/ava_qs_suggestions.csv', index=False)"
   ]
  },
  {
   "cell_type": "code",
   "execution_count": null,
   "id": "a3d62a2f",
   "metadata": {
    "scrolled": false
   },
   "outputs": [],
   "source": [
    "sce = '../RFPs/SCE/'\n",
    "svce = '../RFPs/Completed/SVCE/'"
   ]
  },
  {
   "cell_type": "code",
   "execution_count": null,
   "id": "745586c9",
   "metadata": {
    "scrolled": true
   },
   "outputs": [],
   "source": [
    "workbook_qs = pd.read_csv('calchoice_rfp_qs.csv')\n",
    "#workbook_qs.embedding = workbook_qs.embedding.apply(ast.literal_eval)\n",
    "q_bank = pd.read_csv(sce + 'sonrisa_q_bank_all.csv')\n",
    "q_bank.embedding = q_bank.embedding.apply(ast.literal_eval)"
   ]
  },
  {
   "cell_type": "code",
   "execution_count": null,
   "id": "06b9bd3e",
   "metadata": {},
   "outputs": [],
   "source": [
    "workbook_qs['embedding'] = workbook_qs.question.apply(lambda x: get_embedding(x, engine=embedding_model))\n",
    "# q_bank['embedding'] = q_bank.question.apply(lambda x: get_embedding(x, engine=embedding_model))\n",
    "\n",
    "workbook_qs.to_csv('calchoice_rfp_qs.csv', index=False)\n",
    "# q_bank.to_csv(sce + 'sonrisa_q_bank_all.csv', index=False)"
   ]
  },
  {
   "cell_type": "code",
   "execution_count": null,
   "id": "be6cf956",
   "metadata": {},
   "outputs": [],
   "source": [
    "#workbook_qs.drop(columns = 'embedding').to_csv(svce + 'svce_qs.csv', index = False)"
   ]
  },
  {
   "cell_type": "code",
   "execution_count": null,
   "id": "84aa6009",
   "metadata": {},
   "outputs": [],
   "source": [
    "import heapq\n",
    "\n",
    "def track_top_n(entries, n):\n",
    "    heap = []\n",
    "    \n",
    "    for number, similarity in entries:\n",
    "        if len(heap) < n:\n",
    "            heapq.heappush(heap, (similarity, number))\n",
    "        else:\n",
    "            if similarity > heap[0][0]:\n",
    "                heapq.heappop(heap)\n",
    "                heapq.heappush(heap, (similarity, number))\n",
    "    \n",
    "    # Convert back the similarity scores and return the top 5\n",
    "    return [(num, sim) for (sim, num) in heap]\n",
    "\n",
    "\n",
    "def top_n_sim_qs(embedding, bank=q_bank, n=5):\n",
    "    \n",
    "    bank['similarity'] = [None] * bank.shape[0]\n",
    "    \n",
    "    for index, row in bank.iterrows():\n",
    "        bank.loc[index, 'similarity'] = cosine_similarity(row.embedding, embedding)\n",
    "    \n",
    "    return track_top_n(list(zip(bank.index, bank.similarity)), n=n)  \n",
    "\n",
    "def flatten_extend(matrix):\n",
    "    flat_list = []\n",
    "    for row in matrix:\n",
    "        flat_list.extend(row)\n",
    "    return flat_list\n",
    "\n",
    "def all_new_qs_most_sim(qs=workbook_qs, bank=q_bank, n=5):\n",
    "    sims = []\n",
    "    new_cols = flatten_extend([['question%d' % i, 'answer%d' % i, 'rfp%d' % i, 'similarity%d' % i] for i in range(n)])\n",
    "    \n",
    "    for index, row in qs.iterrows():\n",
    "        row_sim_stats = sorted(top_n_sim_qs(row.embedding, n=n), key=lambda x: x[1], reverse=True)\n",
    "        row_sim_info = flatten_extend([[bank.question[stat[0]], bank.answer[stat[0]], bank.rfp[stat[0]], stat[1]] \n",
    "                                      for stat in row_sim_stats])\n",
    "        \n",
    "        sims.append(row_sim_info)\n",
    "        \n",
    "    return pd.DataFrame(sims, columns=new_cols)"
   ]
  },
  {
   "cell_type": "code",
   "execution_count": null,
   "id": "14d74f35",
   "metadata": {},
   "outputs": [],
   "source": []
  },
  {
   "cell_type": "code",
   "execution_count": null,
   "id": "29bd57ac",
   "metadata": {},
   "outputs": [],
   "source": [
    "workbook_qs_with_sims = workbook_qs.join(all_new_qs_most_sim()).drop(columns=['embedding'])"
   ]
  },
  {
   "cell_type": "code",
   "execution_count": null,
   "id": "5157ace7",
   "metadata": {},
   "outputs": [],
   "source": [
    "workbook_qs_with_sims"
   ]
  },
  {
   "cell_type": "code",
   "execution_count": null,
   "id": "0b12592e",
   "metadata": {
    "scrolled": true
   },
   "outputs": [],
   "source": [
    "workbook_qs_with_sims.to_csv('calchoice_rfp_qs_with_sims.csv', index=False)"
   ]
  },
  {
   "cell_type": "code",
   "execution_count": null,
   "id": "1d3ee5ec",
   "metadata": {},
   "outputs": [],
   "source": [
    "no_embed_q_bank = q_bank.drop(columns=['embedding', 'similarity'])"
   ]
  },
  {
   "cell_type": "code",
   "execution_count": null,
   "id": "2701b1dd",
   "metadata": {},
   "outputs": [],
   "source": [
    "no_embed_q_bank.to_csv(sce + 'no_embed_q_bank.csv', index=False)"
   ]
  },
  {
   "cell_type": "code",
   "execution_count": null,
   "id": "761e1f58",
   "metadata": {},
   "outputs": [],
   "source": [
    "pd.read_csv(svce + 'svce_qs.csv')"
   ]
  },
  {
   "cell_type": "code",
   "execution_count": null,
   "id": "baf69e7c",
   "metadata": {},
   "outputs": [],
   "source": []
  }
 ],
 "metadata": {
  "kernelspec": {
   "display_name": "Python 3 (ipykernel)",
   "language": "python",
   "name": "python3"
  },
  "language_info": {
   "codemirror_mode": {
    "name": "ipython",
    "version": 3
   },
   "file_extension": ".py",
   "mimetype": "text/x-python",
   "name": "python",
   "nbconvert_exporter": "python",
   "pygments_lexer": "ipython3",
   "version": "3.12.3"
  }
 },
 "nbformat": 4,
 "nbformat_minor": 5
}
